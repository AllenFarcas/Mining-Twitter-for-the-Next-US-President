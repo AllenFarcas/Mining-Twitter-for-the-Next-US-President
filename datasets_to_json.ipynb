{
 "cells": [
  {
   "cell_type": "code",
   "execution_count": 1,
   "metadata": {
    "collapsed": true
   },
   "outputs": [],
   "source": [
    "import json\n",
    "with open('Datasets/IEEE/ieee_dataset-006.jsonl') as f:\n",
    "    for line in f:\n",
    "        # print(line)\n",
    "        tweet_dict = json.loads(line)\n",
    "        # print(tweet_dict)\n",
    "        # print(json.dumps(tweet_dict, indent = 4, sort_keys=True))\n",
    "        # print(tweet_dict.keys())\n",
    "        important_keys = ['created_at', 'id', 'id_str', 'full_text', 'truncated',  'user', 'geo', 'coordinates', 'place', 'is_quote_status', 'retweet_count', 'favorite_count', 'favorited', 'retweeted', 'lang']\n",
    "        # print(tweet_dict['retweeted_status'].keys())\n",
    "        break"
   ]
  },
  {
   "cell_type": "code",
   "execution_count": 2,
   "outputs": [],
   "source": [
    "with open('Datasets/IEEE/ieee_dataset-006.jsonl') as f:\n",
    "    for line in f:\n",
    "        # print(line)\n",
    "        tweet_dict = json.loads(line)\n",
    "        if tweet_dict['id'] == 1278368971587088384:\n",
    "            # print(json.dumps(tweet_dict, indent = 4, sort_keys=True))\n",
    "            # print(tweet_dict.keys())\n",
    "            important_keys = ['created_at', 'id', 'id_str', 'full_text', 'truncated',  'user', 'geo', 'coordinates', 'place', 'is_quote_status', 'retweet_count', 'favorite_count', 'favorited', 'retweeted', 'lang']\n",
    "            # print(tweet_dict['retweeted_status'].keys())\n",
    "            break"
   ],
   "metadata": {
    "collapsed": false,
    "pycharm": {
     "name": "#%%\n"
    }
   }
  },
  {
   "cell_type": "markdown",
   "source": [
    "Original tweet json"
   ],
   "metadata": {
    "collapsed": false
   }
  },
  {
   "cell_type": "code",
   "execution_count": 3,
   "outputs": [],
   "source": [
    "retweet = ['created_at', 'id', 'id_str', 'full_text', 'truncated', 'display_text_range', 'entities', 'source', 'in_reply_to_status_id', 'in_reply_to_status_id_str', 'in_reply_to_user_id', 'in_reply_to_user_id_str', 'in_reply_to_screen_name', 'user', 'geo', 'coordinates', 'place', 'contributors', 'retweeted_status', 'is_quote_status', 'retweet_count', 'favorite_count', 'favorited', 'retweeted', 'lang']\n",
    "nrm_twt = ['created_at', 'id', 'id_str', 'full_text', 'truncated', 'display_text_range', 'entities', 'source', 'in_reply_to_status_id', 'in_reply_to_status_id_str', 'in_reply_to_user_id', 'in_reply_to_user_id_str', 'in_reply_to_screen_name', 'user', 'geo', 'coordinates', 'place', 'contributors', 'is_quote_status', 'retweet_count', 'favorite_count', 'favorited', 'retweeted', 'lang']\n",
    "twt_f_r = ['created_at', 'id', 'id_str', 'full_text', 'truncated', 'display_text_range', 'entities', 'source', 'in_reply_to_status_id', 'in_reply_to_status_id_str', 'in_reply_to_user_id', 'in_reply_to_user_id_str', 'in_reply_to_screen_name', 'user', 'geo', 'coordinates', 'place', 'contributors', 'is_quote_status', 'retweet_count', 'favorite_count', 'favorited', 'retweeted', 'possibly_sensitive', 'lang']"
   ],
   "metadata": {
    "collapsed": false,
    "pycharm": {
     "name": "#%%\n"
    }
   }
  },
  {
   "cell_type": "markdown",
   "source": [
    "Filtered tweet json"
   ],
   "metadata": {
    "collapsed": false,
    "pycharm": {
     "name": "#%% md\n"
    }
   }
  },
  {
   "cell_type": "code",
   "execution_count": 4,
   "outputs": [],
   "source": [
    "twt_flt = ['created_at', 'id_str', 'full_text','geo', 'coordinates', 'place', 'retweet_count', 'favorite_count',\n",
    "           'favorited', 'lang']\n",
    "'retweeted_status'\n",
    "'user'\n",
    "usr_flt = ['screen_name', 'id_str', 'location', 'created_at', 'friends_count', 'verified', 'followers_count']"
   ],
   "metadata": {
    "collapsed": false,
    "pycharm": {
     "name": "#%%\n"
    }
   }
  },
  {
   "cell_type": "markdown",
   "source": [
    "* Filter for lang : \"en\"\n",
    "\n",
    "* Make a csv file with following columns:\n",
    "\n",
    "created_at, id_str, full_text, favorite_count, favorited, retweet_count, geo, coordinates, place\n",
    "\n",
    "* From user:\n",
    "\n",
    "id_str, screen_name (the name with @), location, created_at, friends_count, verified, followers_count\n",
    "\n",
    "For retweets treat them like normal tweets (go into retweeted status and take the same data) remove duplicate Tweet IDs."
   ],
   "metadata": {
    "collapsed": false,
    "pycharm": {
     "name": "#%% md\n"
    }
   }
  },
  {
   "cell_type": "code",
   "execution_count": 15,
   "outputs": [],
   "source": [
    "def get_tweet_data(dict):\n",
    "    twt_flt = ['created_at', 'id_str', 'full_text', 'coordinates', 'place', 'retweet_count', 'favorite_count',\n",
    "           'favorited', 'lang']\n",
    "    usr_flt = ['screen_name', 'id_str', 'location', 'created_at', 'friends_count', 'verified', 'followers_count']\n",
    "    data = {}\n",
    "    for key in twt_flt:\n",
    "        data[key] = dict[key]\n",
    "    for key in usr_flt:\n",
    "        data[f\"u_{key}\"] = dict['user'][key]\n",
    "    with open('dataset.jsonl', 'a+') as f:\n",
    "        json.dump(data, f)\n",
    "        f.write('\\n')"
   ],
   "metadata": {
    "collapsed": false,
    "pycharm": {
     "name": "#%%\n"
    }
   }
  },
  {
   "cell_type": "code",
   "execution_count": 16,
   "outputs": [
    {
     "name": "stderr",
     "output_type": "stream",
     "text": [
      "2827074it [05:59, 7858.27it/s]\n"
     ]
    }
   ],
   "source": [
    "from tqdm import tqdm\n",
    "# cnt = 0\n",
    "with open('Datasets/IEEE/ieee_dataset-006.jsonl','r') as f:\n",
    "    for line in tqdm(f):\n",
    "        # cnt += 1\n",
    "        tweet_dict = json.loads(line)\n",
    "        if 'retweeted_status' in tweet_dict:\n",
    "            get_tweet_data(tweet_dict['retweeted_status'])\n",
    "        else:\n",
    "            get_tweet_data(tweet_dict)\n",
    "        # if cnt == 10:\n",
    "        #     break"
   ],
   "metadata": {
    "collapsed": false,
    "pycharm": {
     "name": "#%%\n"
    }
   }
  },
  {
   "cell_type": "code",
   "execution_count": 17,
   "outputs": [
    {
     "name": "stderr",
     "output_type": "stream",
     "text": [
      "1540038it [03:36, 7120.09it/s]\n",
      "1026693it [02:25, 7058.76it/s]\n",
      "1501732it [03:33, 7043.99it/s]\n",
      "1441038it [03:23, 7086.59it/s]\n"
     ]
    }
   ],
   "source": [
    "files = ['aug_2-005.jsonl','jun-002.jsonl','sep_1-003.jsonl','sep_2-004.jsonl']\n",
    "for name in files:\n",
    "    with open(f'Datasets/GitHub/{name}','r') as f:\n",
    "        for line in tqdm(f):\n",
    "            tweet_dict = json.loads(line)\n",
    "            if 'retweeted_status' in tweet_dict:\n",
    "                get_tweet_data(tweet_dict['retweeted_status'])\n",
    "            else:\n",
    "                get_tweet_data(tweet_dict)\n"
   ],
   "metadata": {
    "collapsed": false,
    "pycharm": {
     "name": "#%%\n"
    }
   }
  },
  {
   "cell_type": "code",
   "execution_count": 18,
   "outputs": [
    {
     "name": "stderr",
     "output_type": "stream",
     "text": [
      "8336575it [08:55, 15561.59it/s]\n"
     ]
    }
   ],
   "source": [
    "langs = {}\n",
    "with open('dataset.jsonl','r') as f:\n",
    "    for line in tqdm(f):\n",
    "        tweet_dict = json.loads(line)\n",
    "        if tweet_dict['lang'] != 'en':\n",
    "            if tweet_dict['lang'] in langs.keys():\n",
    "                langs[tweet_dict['lang']] += 1\n",
    "            else:\n",
    "                langs[tweet_dict['lang']] = 1\n",
    "        else:\n",
    "            if tweet_dict['lang'] in langs.keys():\n",
    "                langs[tweet_dict['lang']] += 1\n",
    "            else:\n",
    "                langs[tweet_dict['lang']] = 1\n",
    "            with open('dataset_eng.jsonl', 'a+') as new_f:\n",
    "                json.dump(tweet_dict, new_f)\n",
    "                new_f.write('\\n')"
   ],
   "metadata": {
    "collapsed": false,
    "pycharm": {
     "name": "#%%\n"
    }
   }
  },
  {
   "cell_type": "code",
   "execution_count": 19,
   "outputs": [
    {
     "name": "stdout",
     "output_type": "stream",
     "text": [
      "{'en': 7755996, 'und': 463179, 'es': 57518, 'sv': 1433, 'ja': 5281, 'ar': 892, 'fr': 9066, 'iw': 47, 'tl': 4711, 'pl': 943, 'lv': 177, 'pt': 10173, 'in': 3900, 'it': 1613, 'ro': 709, 'eu': 1331, 'cy': 1874, 'ht': 1944, 'tr': 1367, 'et': 1680, 'ca': 933, 'fa': 541, 'lt': 264, 'da': 932, 'de': 2211, 'zh': 2404, 'no': 1132, 'vi': 168, 'hu': 241, 'cs': 372, 'nl': 1234, 'hi': 603, 'is': 120, 'fi': 824, 'am': 4, 'ru': 168, 'ta': 38, 'el': 35, 'sr': 19, 'ko': 349, 'ml': 3, 'sl': 38, 'ne': 7, 'ckb': 5, 'th': 27, 'km': 2, 'ur': 35, 'bg': 9, 'bn': 2, 'mr': 4, 'uk': 12, 'ka': 1, 'ps': 1, 'gu': 1, 'kn': 1, 'pa': 1}\n"
     ]
    }
   ],
   "source": [
    "print(langs)"
   ],
   "metadata": {
    "collapsed": false,
    "pycharm": {
     "name": "#%%\n"
    }
   }
  },
  {
   "cell_type": "code",
   "execution_count": 20,
   "outputs": [
    {
     "name": "stdout",
     "output_type": "stream",
     "text": [
      "English: 7755996\n",
      "Others: 580579\n"
     ]
    }
   ],
   "source": [
    "others = 0\n",
    "for i in langs.keys():\n",
    "    if i == 'en':\n",
    "        continue\n",
    "    else:\n",
    "        others += langs[i]\n",
    "print(f\"English: {langs['en']}\")\n",
    "print(f\"Others: {others}\")\n"
   ],
   "metadata": {
    "collapsed": false,
    "pycharm": {
     "name": "#%%\n"
    }
   }
  },
  {
   "cell_type": "code",
   "execution_count": 22,
   "outputs": [
    {
     "name": "stdout",
     "output_type": "stream",
     "text": [
      "Number tweets: 7755996\n"
     ]
    }
   ],
   "source": [
    "with open('dataset_eng.jsonl','r') as diff_f:\n",
    "    cnt = 0\n",
    "    for i in diff_f:\n",
    "        cnt += 1\n",
    "    print(f\"Number tweets: {cnt}\")"
   ],
   "metadata": {
    "collapsed": false,
    "pycharm": {
     "name": "#%%\n"
    }
   }
  },
  {
   "cell_type": "code",
   "execution_count": 28,
   "outputs": [
    {
     "name": "stdout",
     "output_type": "stream",
     "text": [
      "This is the most inappropriate #MemorialDay comment that a @POTUS has ever made. Self-promotion on a day to remember the fallen, and wishing those remembering their deceased loved ones a “happy” holiday is appalling. #CadetBoneSpurs https://t.co/kRse4dnwiu\n",
      "This is the most inappropriate #MemorialDay comment that a @POTUS has ever made. Self-promotion on a day to remember the fallen, and wishing those remembering their deceased loved ones a “happy” holiday is appalling. #CadetBoneSpurs https://t.co/kRse4dnwiu\n",
      "This is the most inappropriate #MemorialDay comment that a @POTUS has ever made. Self-promotion on a day to remember the fallen, and wishing those remembering their deceased loved ones a “happy” holiday is appalling. #CadetBoneSpurs https://t.co/kRse4dnwiu\n"
     ]
    }
   ],
   "source": [
    "with open('dataset_eng.jsonl','r') as f:\n",
    "    for line in f:\n",
    "        tweet_dict = json.loads(line)\n",
    "        if tweet_dict['id_str'] == '1001095903615291395':\n",
    "            print(tweet_dict['full_text'])"
   ],
   "metadata": {
    "collapsed": false,
    "pycharm": {
     "name": "#%%\n"
    }
   }
  },
  {
   "cell_type": "code",
   "execution_count": 30,
   "outputs": [
    {
     "name": "stderr",
     "output_type": "stream",
     "text": [
      "7755996it [00:44, 175280.56it/s]\n"
     ]
    },
    {
     "name": "stdout",
     "output_type": "stream",
     "text": [
      "7755996\n"
     ]
    }
   ],
   "source": [
    "ids = []\n",
    "with open('dataset_eng.jsonl','r') as f:\n",
    "    for line in tqdm(f):\n",
    "        tweet_dict = json.loads(line)\n",
    "        ids.append(tweet_dict['id_str'])\n",
    "print(len(ids))"
   ],
   "metadata": {
    "collapsed": false,
    "pycharm": {
     "name": "#%%\n"
    }
   }
  },
  {
   "cell_type": "code",
   "execution_count": 43,
   "outputs": [
    {
     "name": "stderr",
     "output_type": "stream",
     "text": [
      "100%|██████████| 7755996/7755996 [00:01<00:00, 4887989.18it/s]\n"
     ]
    },
    {
     "name": "stdout",
     "output_type": "stream",
     "text": [
      "0\n",
      "2796912\n"
     ]
    }
   ],
   "source": [
    "unique_list = set(ids)\n",
    "cnt = 0\n",
    "for x in tqdm(ids):\n",
    "    if x not in unique_list:\n",
    "        cnt +=1\n",
    "print(cnt)\n",
    "print(len(unique_list))"
   ],
   "metadata": {
    "collapsed": false,
    "pycharm": {
     "name": "#%%\n"
    }
   }
  },
  {
   "cell_type": "code",
   "execution_count": 44,
   "outputs": [
    {
     "name": "stderr",
     "output_type": "stream",
     "text": [
      "7755996it [03:45, 34438.05it/s]\n"
     ]
    }
   ],
   "source": [
    "with open('dataset_eng.jsonl','r') as f:\n",
    "    for line in tqdm(f):\n",
    "        tweet_dict = json.loads(line)\n",
    "        if tweet_dict['id_str'] in unique_list:\n",
    "            with open('dataset_filt.jsonl', 'a+') as filt_f:\n",
    "                json.dump(tweet_dict, filt_f)\n",
    "                filt_f.write('\\n')\n",
    "            unique_list.remove(tweet_dict['id_str'])"
   ],
   "metadata": {
    "collapsed": false,
    "pycharm": {
     "name": "#%%\n"
    }
   }
  },
  {
   "cell_type": "code",
   "execution_count": 45,
   "outputs": [
    {
     "name": "stdout",
     "output_type": "stream",
     "text": [
      "2796912\n"
     ]
    }
   ],
   "source": [
    "cnt = 0\n",
    "with open('dataset_filt.jsonl', 'r') as filt_f:\n",
    "    for line in filt_f:\n",
    "        cnt += 1\n",
    "print(cnt)"
   ],
   "metadata": {
    "collapsed": false,
    "pycharm": {
     "name": "#%%\n"
    }
   }
  },
  {
   "cell_type": "code",
   "execution_count": null,
   "outputs": [],
   "source": [],
   "metadata": {
    "collapsed": false,
    "pycharm": {
     "name": "#%%\n"
    }
   }
  }
 ],
 "metadata": {
  "kernelspec": {
   "display_name": "Python 3",
   "language": "python",
   "name": "python3"
  },
  "language_info": {
   "codemirror_mode": {
    "name": "ipython",
    "version": 2
   },
   "file_extension": ".py",
   "mimetype": "text/x-python",
   "name": "python",
   "nbconvert_exporter": "python",
   "pygments_lexer": "ipython2",
   "version": "2.7.6"
  }
 },
 "nbformat": 4,
 "nbformat_minor": 0
}