{
 "cells": [
  {
   "cell_type": "code",
   "execution_count": 1,
   "metadata": {},
   "outputs": [],
   "source": [
    "import pandas as pd\n",
    "import numpy as np\n",
    "import csv"
   ]
  },
  {
   "cell_type": "code",
   "execution_count": 2,
   "metadata": {},
   "outputs": [
    {
     "data": {
      "text/plain": [
       "OrderedDict([('created_at', 'Wed Jul 01 13:32:31 +0000 2020'),\n",
       "             ('coordinates', ''),\n",
       "             ('place', ''),\n",
       "             ('retweet_count', '291'),\n",
       "             ('favorite_count', '237'),\n",
       "             ('favorited', 'False'),\n",
       "             ('lang', 'en'),\n",
       "             ('u_screen_name', 'readyletsgo27'),\n",
       "             ('u_id_str', '986716551935016960'),\n",
       "             ('u_location', 'Georgia, USA'),\n",
       "             ('u_created_at', 'Wed Apr 18 21:22:13 +0000 2018'),\n",
       "             ('u_friends_count', '25265'),\n",
       "             ('u_verified', 'False'),\n",
       "             ('u_followers_count', '28552'),\n",
       "             ('Tweet ID', '1278320583718178816'),\n",
       "             ('text',\n",
       "              'Business Group Complains Trump H-1B Reform Boosting U.S. Graduates. Big tech is whining that they will have to hire American instead of cheap foreign labor. Too bad, so sad. America first. Not H-1B workers. https://t.co/q35hAegV5q via @BreitbartNews'),\n",
       "             ('SentiStrength', 'Negative'),\n",
       "             ('Vader', 'Negative'),\n",
       "             ('Textblob', 'Negative'),\n",
       "             ('Vote', 'Negative')])"
      ]
     },
     "execution_count": 2,
     "metadata": {},
     "output_type": "execute_result"
    }
   ],
   "source": [
    "\n",
    "csv_all = open(\"filtered.csv\",\"w\",encoding = \"utf-8\",newline='')\n",
    "dem  = open(\"democrats.csv\", \"w\",encoding = \"utf-8\",newline='')\n",
    "rep = open(\"republicans.csv\", \"w\",encoding = \"utf-8\",newline='')\n",
    "fieldnames = ['created_at','coordinates', 'place','retweet_count','favorite_count','favorited', 'lang','u_screen_name','u_id_str','u_location','u_created_at','u_friends_count', 'u_verified','u_followers_count','Tweet ID','text','SentiStrength','Vader','Textblob','Vote','Party']\n",
    "#fieldnames =['Tweet ID','text','SentiStrength','Vader','Textblob','Vote','Party']\n",
    "writerall     = csv.DictWriter(csv_all, fieldnames=fieldnames)\n",
    "writerall.writeheader()\n",
    "writerdem     = csv.DictWriter(dem, fieldnames=fieldnames)\n",
    "writerdem.writeheader()\n",
    "writerrep     = csv.DictWriter(rep, fieldnames=fieldnames)\n",
    "writerrep.writeheader()\n",
    "\n",
    "csv_voted  = open('vote_json_all_no_conflict.csv', \"r\",encoding = \"utf-8\")\n",
    "#csv_voted  = open('vote_all.csv', \"r\",encoding = \"utf-8\")\n",
    "readcsv = csv.DictReader(csv_voted,delimiter=',') \n",
    "next(readcsv)"
   ]
  },
  {
   "cell_type": "code",
   "execution_count": 4,
   "metadata": {},
   "outputs": [],
   "source": [
    "keywords_dem = [\"@dnc\",\"@thedemocrats\",\"dnc\",\"biden\",\"BIDEN\",\"joe\",\"dems\",\"democrat\",\"democratic\",\"hilary\",\"clinton\",\"@joebiden\",\"@kamalaharris\",\"@senkamalaharris\",\"@mikebloomberg\",\"our best days still lie ahead\" ,\"no malarkey\",\"harris\",\"bidenharris\",\"creepyjoebiden\",\"sleepyjoe\",\"sleepy joe\",\"biden-harris\",\"kamala\",\"dr.biden\",\"voteblue\",\"blue\"]\n",
    "keywords_rep = [\"#maga2020\",\"@gop\",\"gop\",\"trump\",\"TRUMP\",\"@potus\",\"@realdonaldtrump\",\"republican\",\"republicans\",\"pence\",\"@mike_pence\",\"@vp\",\"keep america great\",\"potus\",\"flotus\",\"donaldtrump\",\"donaldjtrump\",\"donald\",\"president\",\"presidenttrump\",\"trump2020\",\"votered\",\"mike\",\"pence\",\"michael\",\"Pence\",\"mikepence\",\"red\"]"
   ]
  },
  {
   "cell_type": "code",
   "execution_count": 5,
   "metadata": {
    "scrolled": false
   },
   "outputs": [],
   "source": [
    "democ = 0\n",
    "repub = 0\n",
    "tot = 0\n",
    "generic=0\n",
    "\n",
    "for row in readcsv:\n",
    "   # print(row)\n",
    "    tot = tot+1\n",
    "    ID = row['text']+\"\\t\"\n",
    "    if any(word in row['text'].lower() for word in keywords_dem):\n",
    "        row['Party']=\"Democratic\"\n",
    "        writerall.writerow(row)\n",
    "        writerdem.writerow(row)\n",
    "        democ=democ+1\n",
    "    elif any(word in row['text'].lower() for word in keywords_rep):\n",
    "        row['Party']=\"Republican\"\n",
    "        writerall.writerow(row)\n",
    "        writerrep.writerow(row)\n",
    "        repub=repub+1\n",
    "    else:\n",
    "        row['Party']=\"Generic\"\n",
    "        writerall.writerow(row)   \n",
    "        generic=generic+1\n",
    "        \n",
    "csv_all.close()\n",
    "dem.close()\n",
    "rep.close()\n",
    "csv_voted.close()"
   ]
  },
  {
   "cell_type": "code",
   "execution_count": 6,
   "metadata": {},
   "outputs": [
    {
     "name": "stdout",
     "output_type": "stream",
     "text": [
      "2475774 735470 1511078 229226\n"
     ]
    }
   ],
   "source": [
    "print(tot,democ,repub,generic)"
   ]
  },
  {
   "cell_type": "code",
   "execution_count": null,
   "metadata": {},
   "outputs": [],
   "source": []
  }
 ],
 "metadata": {
  "kernelspec": {
   "display_name": "Python 3",
   "language": "python",
   "name": "python3"
  },
  "language_info": {
   "codemirror_mode": {
    "name": "ipython",
    "version": 3
   },
   "file_extension": ".py",
   "mimetype": "text/x-python",
   "name": "python",
   "nbconvert_exporter": "python",
   "pygments_lexer": "ipython3",
   "version": "3.6.8"
  }
 },
 "nbformat": 4,
 "nbformat_minor": 4
}
