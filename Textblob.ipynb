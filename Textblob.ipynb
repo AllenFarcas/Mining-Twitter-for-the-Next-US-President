{
 "cells": [
  {
   "cell_type": "code",
   "execution_count": 36,
   "metadata": {
    "id": "5uH-w0JByGfR"
   },
   "outputs": [],
   "source": [
    "import pandas as pd\n",
    "import numpy as np\n",
    "import re\n",
    "import nltk\n",
    "from textblob import TextBlob\n",
    "import json\n",
    "from tqdm import tqdm\n",
    "import csv\n",
    "\n",
    "#Data preprocessing to removes @usernames,urls,symbols and makes all text lowercase\n",
    "def preprocess_text(text):\n",
    "    text = re.sub('((www\\.[^\\s]+)|(https?://[^\\s]+))','URL', text)\n",
    "    text = re.sub('@[^\\s]+','', text)\n",
    "    text = text.lower().replace(\"ё\", \"е\")\n",
    "    text = re.sub('[$|@|#|%|^|&|*|\\(|\\)|\\\\|\\\"|\\\"]',' ', text)\n",
    "    text = re.sub('[\"\\n\"]+',' ', text)\n",
    "   # text = re.sub('[^a-zA-Zа-яА-Я1-9]+',' ', text)\n",
    "    text = re.sub(' +',' ', text)\n",
    "    return text.strip()\n",
    "\n"
   ]
  },
  {
   "cell_type": "code",
   "execution_count": 37,
   "metadata": {
    "id": "yYzvYS1DyGfl"
   },
   "outputs": [],
   "source": [
    "def deEmojify(text):\n",
    "    regrex_pattern = re.compile(pattern = \"[\"\n",
    "        u\"\\U0001F600-\\U0001F64F\"  # emoticons\n",
    "        u\"\\U0001F300-\\U0001F5FF\"  # symbols & pictographs\n",
    "        u\"\\U0001F680-\\U0001F6FF\"  # transport & map symbols\n",
    "        u\"\\U0001F1E0-\\U0001F1FF\"  # flags (iOS)\n",
    "                           \"]+\", flags = re.UNICODE)\n",
    "    return regrex_pattern.sub(r'',text)"
   ]
  },
  {
   "cell_type": "code",
   "execution_count": 38,
   "metadata": {
    "id": "xpyS4wT-QlS_"
   },
   "outputs": [],
   "source": [
    "def find_polsub(text):\n",
    "    return TextBlob(text).sentiment\n",
    "\n",
    "def sentiment(senti):\n",
    "    if senti[0] >0:\n",
    "        sentiment=\"Positive\"\n",
    "    elif senti[0] <0:\n",
    "        sentiment=\"Negative\"\n",
    "    else:\n",
    "        sentiment=\"Neutral\"\n",
    "    return sentiment"
   ]
  },
  {
   "cell_type": "code",
   "execution_count": 40,
   "metadata": {
    "colab": {
     "base_uri": "https://localhost:8080/"
    },
    "id": "LjHG9KIMyGfc",
    "outputId": "8b7f4b3d-1873-4c60-e64d-bba8b6476c30"
   },
   "outputs": [
    {
     "name": "stderr",
     "output_type": "stream",
     "text": [
      "2796912it [33:11, 1404.18it/s]"
     ]
    },
    {
     "name": "stdout",
     "output_type": "stream",
     "text": [
      "the twitter feed is run by the campaign and the they will be live fact checking the debate. follow them for, well, the truth. url Sentiment(polarity=0.13636363636363635, subjectivity=0.5) Positive\n"
     ]
    },
    {
     "name": "stderr",
     "output_type": "stream",
     "text": [
      "\n"
     ]
    }
   ],
   "source": [
    "#op = csv.writer(open(\"Textblob_sentiment.csv\",'w'),delimiter=',',lineterminator='\\n')\n",
    "\n",
    "\n",
    "with open('Textblob_sentiment.csv', 'w', newline='\\n', encoding='utf-8') as csv_file:\n",
    "    op = csv.writer(csv_file, delimiter=',')\n",
    "    op.writerow([\"id_str\",\"full_text\",\"Sentiment\"])\n",
    "    with open('dataset_filt.jsonl','r') as f:\n",
    "        for line in tqdm(f):\n",
    "            tweet = json.loads(line)\n",
    "        \n",
    "            text= preprocess_text(tweet[\"full_text\"])\n",
    "            text = deEmojify(text)\n",
    "     \n",
    "            pol_sub = find_polsub(text)\n",
    "            Sentiment = sentiment(pol_sub)\n",
    "        \n",
    "            op.writerow([tweet['id_str'],tweet[\"full_text\"],Sentiment])\n",
    "        \n",
    "print(text,pol_sub,Sentiment)\n",
    "\n",
    "#data.head()\n",
    "#data.head()"
   ]
  },
  {
   "cell_type": "code",
   "execution_count": null,
   "metadata": {},
   "outputs": [],
   "source": []
  }
 ],
 "metadata": {
  "colab": {
   "name": "textblob_json.ipynb",
   "provenance": []
  },
  "kernelspec": {
   "display_name": "Python 3",
   "language": "python",
   "name": "python3"
  },
  "language_info": {
   "codemirror_mode": {
    "name": "ipython",
    "version": 3
   },
   "file_extension": ".py",
   "mimetype": "text/x-python",
   "name": "python",
   "nbconvert_exporter": "python",
   "pygments_lexer": "ipython3",
   "version": "3.6.8"
  }
 },
 "nbformat": 4,
 "nbformat_minor": 1
}
