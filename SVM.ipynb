{
 "cells": [
  {
   "cell_type": "code",
   "execution_count": null,
   "metadata": {
    "id": "XK5y7TPvyjv9"
   },
   "outputs": [],
   "source": [
    "import pandas as pd\n",
    "import numpy as np\n",
    "import re\n",
    "import nltk\n",
    "from textblob import TextBlob\n",
    "from sklearn.metrics import classification_report\n",
    "from sklearn.metrics import plot_roc_curve\n",
    "import matplotlib.pyplot as plt\n",
    "\n",
    "#Data preprocessing to removes @usernames,urls,symbols and makes all text lowercase\n",
    "def preprocess_text(text):\n",
    "    text = re.sub('((www\\.[^\\s]+)|(https?://[^\\s]+))','URL', text)\n",
    "    text = re.sub('@[^\\s]+','', text)\n",
    "    text = text.lower().replace(\"ё\", \"е\")\n",
    "    text = re.sub('[^a-zA-Zа-яА-Я]+',' ', text)\n",
    "    text = re.sub(' +',' ', text)\n",
    "    return text.strip()\n",
    "\n",
    "\n",
    "#from google.colab import files   \n",
    "#uploaded = files.upload()\n",
    "#nltk.download('punkt')\n",
    "\n",
    "#Global variable\n",
    "batchsize = 100000 "
   ]
  },
  {
   "cell_type": "code",
   "execution_count": null,
   "metadata": {
    "colab": {
     "base_uri": "https://localhost:8080/"
    },
    "id": "BVIzolBUObZ4",
    "outputId": "b4291839-2392-44dc-9a65-7170dc85a36f"
   },
   "outputs": [
    {
     "name": "stdout",
     "output_type": "stream",
     "text": [
      "Mounted at /content/drive\n"
     ]
    }
   ],
   "source": [
    "#from google.colab import drive\n",
    "#drive.mount('/content/drive')"
   ]
  },
  {
   "cell_type": "code",
   "execution_count": null,
   "metadata": {
    "colab": {
     "base_uri": "https://localhost:8080/",
     "height": 428
    },
    "id": "Misyylaiyjv9",
    "outputId": "63f7a740-1224-4a0e-c822-a02e73625cf5"
   },
   "outputs": [
    {
     "name": "stderr",
     "output_type": "stream",
     "text": [
      "/usr/local/lib/python3.6/dist-packages/IPython/core/interactiveshell.py:2718: DtypeWarning: Columns (1) have mixed types.Specify dtype option on import or set low_memory=False.\n",
      "  interactivity=interactivity, compiler=compiler, result=result)\n"
     ]
    },
    {
     "data": {
      "text/html": [
       "<div>\n",
       "<style scoped>\n",
       "    .dataframe tbody tr th:only-of-type {\n",
       "        vertical-align: middle;\n",
       "    }\n",
       "\n",
       "    .dataframe tbody tr th {\n",
       "        vertical-align: top;\n",
       "    }\n",
       "\n",
       "    .dataframe thead th {\n",
       "        text-align: right;\n",
       "    }\n",
       "</style>\n",
       "<table border=\"1\" class=\"dataframe\">\n",
       "  <thead>\n",
       "    <tr style=\"text-align: right;\">\n",
       "      <th></th>\n",
       "      <th>created_at</th>\n",
       "      <th>coordinates</th>\n",
       "      <th>place</th>\n",
       "      <th>retweet_count</th>\n",
       "      <th>favorite_count</th>\n",
       "      <th>favorited</th>\n",
       "      <th>lang</th>\n",
       "      <th>u_screen_name</th>\n",
       "      <th>u_id_str</th>\n",
       "      <th>u_location</th>\n",
       "      <th>u_created_at</th>\n",
       "      <th>u_friends_count</th>\n",
       "      <th>u_verified</th>\n",
       "      <th>u_followers_count</th>\n",
       "      <th>Tweet ID</th>\n",
       "      <th>text</th>\n",
       "      <th>SentiStrength</th>\n",
       "      <th>Vader</th>\n",
       "      <th>Textblob</th>\n",
       "      <th>Vote</th>\n",
       "    </tr>\n",
       "  </thead>\n",
       "  <tbody>\n",
       "    <tr>\n",
       "      <th>0</th>\n",
       "      <td>Wed Jul 01 13:32:31 +0000 2020</td>\n",
       "      <td>NaN</td>\n",
       "      <td>NaN</td>\n",
       "      <td>291</td>\n",
       "      <td>237</td>\n",
       "      <td>False</td>\n",
       "      <td>en</td>\n",
       "      <td>readyletsgo27</td>\n",
       "      <td>986716551935016960</td>\n",
       "      <td>Georgia, USA</td>\n",
       "      <td>Wed Apr 18 21:22:13 +0000 2018</td>\n",
       "      <td>25265</td>\n",
       "      <td>False</td>\n",
       "      <td>28552</td>\n",
       "      <td>1278320583718178816</td>\n",
       "      <td>Business Group Complains Trump H-1B Reform Boo...</td>\n",
       "      <td>Negative</td>\n",
       "      <td>Negative</td>\n",
       "      <td>Negative</td>\n",
       "      <td>Negative</td>\n",
       "    </tr>\n",
       "    <tr>\n",
       "      <th>1</th>\n",
       "      <td>Wed Jul 01 15:16:16 +0000 2020</td>\n",
       "      <td>NaN</td>\n",
       "      <td>NaN</td>\n",
       "      <td>831</td>\n",
       "      <td>1721</td>\n",
       "      <td>False</td>\n",
       "      <td>en</td>\n",
       "      <td>amvetsupport</td>\n",
       "      <td>755946560794558464</td>\n",
       "      <td>Palm Desert, CA</td>\n",
       "      <td>Thu Jul 21 02:04:39 +0000 2016</td>\n",
       "      <td>37780</td>\n",
       "      <td>False</td>\n",
       "      <td>90076</td>\n",
       "      <td>1278346691171586049</td>\n",
       "      <td>That moron trump vows to veto the Defense Bill...</td>\n",
       "      <td>Neutral</td>\n",
       "      <td>Negative</td>\n",
       "      <td>Negative</td>\n",
       "      <td>Negative</td>\n",
       "    </tr>\n",
       "    <tr>\n",
       "      <th>2</th>\n",
       "      <td>Wed Jul 01 16:44:49 +0000 2020</td>\n",
       "      <td>NaN</td>\n",
       "      <td>NaN</td>\n",
       "      <td>0</td>\n",
       "      <td>0</td>\n",
       "      <td>False</td>\n",
       "      <td>en</td>\n",
       "      <td>simosez</td>\n",
       "      <td>85319648</td>\n",
       "      <td>Florida, USA</td>\n",
       "      <td>Mon Oct 26 13:52:24 +0000 2009</td>\n",
       "      <td>91</td>\n",
       "      <td>False</td>\n",
       "      <td>20</td>\n",
       "      <td>1278368975689220097</td>\n",
       "      <td>@JoeBiden Debate President Trump. PROVE you do...</td>\n",
       "      <td>Neutral</td>\n",
       "      <td>Neutral</td>\n",
       "      <td>Neutral</td>\n",
       "      <td>Neutral</td>\n",
       "    </tr>\n",
       "    <tr>\n",
       "      <th>3</th>\n",
       "      <td>Wed Jul 01 16:44:49 +0000 2020</td>\n",
       "      <td>NaN</td>\n",
       "      <td>{'id': '6c686af766d8429c', 'url': 'https://api...</td>\n",
       "      <td>0</td>\n",
       "      <td>4</td>\n",
       "      <td>False</td>\n",
       "      <td>en</td>\n",
       "      <td>stahmosh</td>\n",
       "      <td>19199518</td>\n",
       "      <td>Fort Lauderdale Florida</td>\n",
       "      <td>Mon Jan 19 20:14:13 +0000 2009</td>\n",
       "      <td>365</td>\n",
       "      <td>False</td>\n",
       "      <td>380</td>\n",
       "      <td>1278368976960184320</td>\n",
       "      <td>@PamelaStovall6 @ChuckGrassley @realDonaldTrum...</td>\n",
       "      <td>Neutral</td>\n",
       "      <td>Positive</td>\n",
       "      <td>Neutral</td>\n",
       "      <td>Neutral</td>\n",
       "    </tr>\n",
       "    <tr>\n",
       "      <th>4</th>\n",
       "      <td>Wed Jul 01 16:44:48 +0000 2020</td>\n",
       "      <td>NaN</td>\n",
       "      <td>NaN</td>\n",
       "      <td>4</td>\n",
       "      <td>95</td>\n",
       "      <td>False</td>\n",
       "      <td>en</td>\n",
       "      <td>bigbrain4me</td>\n",
       "      <td>1162151724183932928</td>\n",
       "      <td>Philadelphia, PA</td>\n",
       "      <td>Thu Aug 15 23:59:05 +0000 2019</td>\n",
       "      <td>155</td>\n",
       "      <td>False</td>\n",
       "      <td>105</td>\n",
       "      <td>1278368971314597890</td>\n",
       "      <td>@Jorgensen4POTUS @RealSpikeCohen Just found ou...</td>\n",
       "      <td>Positive</td>\n",
       "      <td>Positive</td>\n",
       "      <td>Positive</td>\n",
       "      <td>Positive</td>\n",
       "    </tr>\n",
       "  </tbody>\n",
       "</table>\n",
       "</div>"
      ],
      "text/plain": [
       "                       created_at coordinates  ...  Textblob      Vote\n",
       "0  Wed Jul 01 13:32:31 +0000 2020         NaN  ...  Negative  Negative\n",
       "1  Wed Jul 01 15:16:16 +0000 2020         NaN  ...  Negative  Negative\n",
       "2  Wed Jul 01 16:44:49 +0000 2020         NaN  ...   Neutral   Neutral\n",
       "3  Wed Jul 01 16:44:49 +0000 2020         NaN  ...   Neutral   Neutral\n",
       "4  Wed Jul 01 16:44:48 +0000 2020         NaN  ...  Positive  Positive\n",
       "\n",
       "[5 rows x 20 columns]"
      ]
     },
     "execution_count": 4,
     "metadata": {
      "tags": []
     },
     "output_type": "execute_result"
    }
   ],
   "source": [
    "#load data from csv/excel/json\n",
    "#data=pd.read_csv('textblob_sample_5k.csv',encoding = 'unicode_escape')\n",
    "#data=pd.read_csv('textblob_sentiment_1M.csv',encoding = \"ISO-8859–1\")\n",
    "data = pd.read_csv('/content/drive/MyDrive/vote_json_all_no_conflict.csv')\n",
    "\n",
    "data.head()"
   ]
  },
  {
   "cell_type": "code",
   "execution_count": null,
   "metadata": {
    "id": "Gt3L49O_yjv-"
   },
   "outputs": [],
   "source": [
    "#data[\"processed_text\"] =  data['full_text'].apply(preprocess_text)\n",
    "data[\"processed_text\"] = data['text'].apply(preprocess_text)"
   ]
  },
  {
   "cell_type": "code",
   "execution_count": null,
   "metadata": {
    "colab": {
     "base_uri": "https://localhost:8080/",
     "height": 717
    },
    "id": "CuOu1WcWyjv-",
    "outputId": "373ca000-ed86-410b-f9fe-666e57839aa8"
   },
   "outputs": [
    {
     "data": {
      "text/html": [
       "<div>\n",
       "<style scoped>\n",
       "    .dataframe tbody tr th:only-of-type {\n",
       "        vertical-align: middle;\n",
       "    }\n",
       "\n",
       "    .dataframe tbody tr th {\n",
       "        vertical-align: top;\n",
       "    }\n",
       "\n",
       "    .dataframe thead th {\n",
       "        text-align: right;\n",
       "    }\n",
       "</style>\n",
       "<table border=\"1\" class=\"dataframe\">\n",
       "  <thead>\n",
       "    <tr style=\"text-align: right;\">\n",
       "      <th></th>\n",
       "      <th>created_at</th>\n",
       "      <th>coordinates</th>\n",
       "      <th>place</th>\n",
       "      <th>retweet_count</th>\n",
       "      <th>favorite_count</th>\n",
       "      <th>favorited</th>\n",
       "      <th>lang</th>\n",
       "      <th>u_screen_name</th>\n",
       "      <th>u_id_str</th>\n",
       "      <th>u_location</th>\n",
       "      <th>u_created_at</th>\n",
       "      <th>u_friends_count</th>\n",
       "      <th>u_verified</th>\n",
       "      <th>u_followers_count</th>\n",
       "      <th>Tweet ID</th>\n",
       "      <th>text</th>\n",
       "      <th>SentiStrength</th>\n",
       "      <th>Vader</th>\n",
       "      <th>Textblob</th>\n",
       "      <th>Vote</th>\n",
       "      <th>processed_text</th>\n",
       "    </tr>\n",
       "  </thead>\n",
       "  <tbody>\n",
       "    <tr>\n",
       "      <th>0</th>\n",
       "      <td>Wed Jul 01 13:32:31 +0000 2020</td>\n",
       "      <td>NaN</td>\n",
       "      <td>NaN</td>\n",
       "      <td>291</td>\n",
       "      <td>237</td>\n",
       "      <td>False</td>\n",
       "      <td>en</td>\n",
       "      <td>readyletsgo27</td>\n",
       "      <td>986716551935016960</td>\n",
       "      <td>Georgia, USA</td>\n",
       "      <td>Wed Apr 18 21:22:13 +0000 2018</td>\n",
       "      <td>25265</td>\n",
       "      <td>False</td>\n",
       "      <td>28552</td>\n",
       "      <td>1278320583718178816</td>\n",
       "      <td>Business Group Complains Trump H-1B Reform Boosting U.S. Graduates. Big tech is whining that they will have to hire American instead of cheap fore...</td>\n",
       "      <td>Negative</td>\n",
       "      <td>Negative</td>\n",
       "      <td>Negative</td>\n",
       "      <td>Negative</td>\n",
       "      <td>business group complains trump h b reform boosting u s graduates big tech is whining that they will have to hire american instead of cheap foreign...</td>\n",
       "    </tr>\n",
       "    <tr>\n",
       "      <th>1</th>\n",
       "      <td>Wed Jul 01 15:16:16 +0000 2020</td>\n",
       "      <td>NaN</td>\n",
       "      <td>NaN</td>\n",
       "      <td>831</td>\n",
       "      <td>1721</td>\n",
       "      <td>False</td>\n",
       "      <td>en</td>\n",
       "      <td>amvetsupport</td>\n",
       "      <td>755946560794558464</td>\n",
       "      <td>Palm Desert, CA</td>\n",
       "      <td>Thu Jul 21 02:04:39 +0000 2016</td>\n",
       "      <td>37780</td>\n",
       "      <td>False</td>\n",
       "      <td>90076</td>\n",
       "      <td>1278346691171586049</td>\n",
       "      <td>That moron trump vows to veto the Defense Bill if it includes renaming bases. So once again, military salaries and defense preparedness are second...</td>\n",
       "      <td>Neutral</td>\n",
       "      <td>Negative</td>\n",
       "      <td>Negative</td>\n",
       "      <td>Negative</td>\n",
       "      <td>that moron trump vows to veto the defense bill if it includes renaming bases so once again military salaries and defense preparedness are second i...</td>\n",
       "    </tr>\n",
       "    <tr>\n",
       "      <th>2</th>\n",
       "      <td>Wed Jul 01 16:44:49 +0000 2020</td>\n",
       "      <td>NaN</td>\n",
       "      <td>NaN</td>\n",
       "      <td>0</td>\n",
       "      <td>0</td>\n",
       "      <td>False</td>\n",
       "      <td>en</td>\n",
       "      <td>simosez</td>\n",
       "      <td>85319648</td>\n",
       "      <td>Florida, USA</td>\n",
       "      <td>Mon Oct 26 13:52:24 +0000 2009</td>\n",
       "      <td>91</td>\n",
       "      <td>False</td>\n",
       "      <td>20</td>\n",
       "      <td>1278368975689220097</td>\n",
       "      <td>@JoeBiden Debate President Trump. PROVE you don’t have dementia. #DementiaJoeCantDebate #JoeBidenScaredToDebate</td>\n",
       "      <td>Neutral</td>\n",
       "      <td>Neutral</td>\n",
       "      <td>Neutral</td>\n",
       "      <td>Neutral</td>\n",
       "      <td>debate president trump prove you don t have dementia dementiajoecantdebate joebidenscaredtodebate</td>\n",
       "    </tr>\n",
       "    <tr>\n",
       "      <th>3</th>\n",
       "      <td>Wed Jul 01 16:44:49 +0000 2020</td>\n",
       "      <td>NaN</td>\n",
       "      <td>{'id': '6c686af766d8429c', 'url': 'https://api.twitter.com/1.1/geo/id/6c686af766d8429c.json', 'place_type': 'city', 'name': 'Fort Lauderdale', 'fu...</td>\n",
       "      <td>0</td>\n",
       "      <td>4</td>\n",
       "      <td>False</td>\n",
       "      <td>en</td>\n",
       "      <td>stahmosh</td>\n",
       "      <td>19199518</td>\n",
       "      <td>Fort Lauderdale Florida</td>\n",
       "      <td>Mon Jan 19 20:14:13 +0000 2009</td>\n",
       "      <td>365</td>\n",
       "      <td>False</td>\n",
       "      <td>380</td>\n",
       "      <td>1278368976960184320</td>\n",
       "      <td>@PamelaStovall6 @ChuckGrassley @realDonaldTrump Democrats are always saving @GOP dinosaurs like grassley after they fvck up</td>\n",
       "      <td>Neutral</td>\n",
       "      <td>Positive</td>\n",
       "      <td>Neutral</td>\n",
       "      <td>Neutral</td>\n",
       "      <td>democrats are always saving dinosaurs like grassley after they fvck up</td>\n",
       "    </tr>\n",
       "    <tr>\n",
       "      <th>4</th>\n",
       "      <td>Wed Jul 01 16:44:48 +0000 2020</td>\n",
       "      <td>NaN</td>\n",
       "      <td>NaN</td>\n",
       "      <td>4</td>\n",
       "      <td>95</td>\n",
       "      <td>False</td>\n",
       "      <td>en</td>\n",
       "      <td>bigbrain4me</td>\n",
       "      <td>1162151724183932928</td>\n",
       "      <td>Philadelphia, PA</td>\n",
       "      <td>Thu Aug 15 23:59:05 +0000 2019</td>\n",
       "      <td>155</td>\n",
       "      <td>False</td>\n",
       "      <td>105</td>\n",
       "      <td>1278368971314597890</td>\n",
       "      <td>@Jorgensen4POTUS @RealSpikeCohen Just found out about you and so far I love your policies and what you have to say. Ofc I still need to read more ...</td>\n",
       "      <td>Positive</td>\n",
       "      <td>Positive</td>\n",
       "      <td>Positive</td>\n",
       "      <td>Positive</td>\n",
       "      <td>just found out about you and so far i love your policies and what you have to say ofc i still need to read more about your stances and plans but i...</td>\n",
       "    </tr>\n",
       "  </tbody>\n",
       "</table>\n",
       "</div>"
      ],
      "text/plain": [
       "                       created_at  ...                                                                                                                                         processed_text\n",
       "0  Wed Jul 01 13:32:31 +0000 2020  ...  business group complains trump h b reform boosting u s graduates big tech is whining that they will have to hire american instead of cheap foreign...\n",
       "1  Wed Jul 01 15:16:16 +0000 2020  ...  that moron trump vows to veto the defense bill if it includes renaming bases so once again military salaries and defense preparedness are second i...\n",
       "2  Wed Jul 01 16:44:49 +0000 2020  ...                                                      debate president trump prove you don t have dementia dementiajoecantdebate joebidenscaredtodebate\n",
       "3  Wed Jul 01 16:44:49 +0000 2020  ...                                                                                 democrats are always saving dinosaurs like grassley after they fvck up\n",
       "4  Wed Jul 01 16:44:48 +0000 2020  ...  just found out about you and so far i love your policies and what you have to say ofc i still need to read more about your stances and plans but i...\n",
       "\n",
       "[5 rows x 21 columns]"
      ]
     },
     "execution_count": 6,
     "metadata": {
      "tags": []
     },
     "output_type": "execute_result"
    }
   ],
   "source": [
    "pd.options.display.max_colwidth = 150\n",
    "data.head()\n"
   ]
  },
  {
   "cell_type": "code",
   "execution_count": null,
   "metadata": {
    "id": "mrFXgX7gyjv-"
   },
   "outputs": [],
   "source": [
    "#Converting the text into tokens and getting the counts of each token based on the ngrams specified. \n",
    "from sklearn.feature_extraction.text import CountVectorizer\n",
    "from nltk.tokenize import RegexpTokenizer\n",
    "token = RegexpTokenizer(r'[a-zA-Z0-9]+')\n",
    "cv = CountVectorizer(stop_words='english',ngram_range = (1,1),tokenizer = nltk.word_tokenize)\n",
    "text_counts = cv.fit_transform(data['processed_text'])"
   ]
  },
  {
   "cell_type": "code",
   "execution_count": null,
   "metadata": {
    "colab": {
     "base_uri": "https://localhost:8080/"
    },
    "id": "AVjjRDccT6fa",
    "outputId": "43ee5053-c565-4757-a46c-9e5251f565a6"
   },
   "outputs": [
    {
     "name": "stdout",
     "output_type": "stream",
     "text": [
      "[nltk_data] Downloading package punkt to /root/nltk_data...\n",
      "[nltk_data]   Unzipping tokenizers/punkt.zip.\n"
     ]
    },
    {
     "data": {
      "text/plain": [
       "True"
      ]
     },
     "execution_count": 7,
     "metadata": {
      "tags": []
     },
     "output_type": "execute_result"
    }
   ],
   "source": [
    "#import nltk\n",
    "#nltk.download('punkt')\n"
   ]
  },
  {
   "cell_type": "code",
   "execution_count": null,
   "metadata": {
    "colab": {
     "base_uri": "https://localhost:8080/"
    },
    "id": "9NfG8xM4yjv-",
    "outputId": "ef0c7431-6904-4d26-cfe5-813e41fe5871"
   },
   "outputs": [
    {
     "data": {
      "text/plain": [
       "<2475775x247849 sparse matrix of type '<class 'numpy.int64'>'\n",
       "\twith 25453762 stored elements in Compressed Sparse Row format>"
      ]
     },
     "execution_count": 9,
     "metadata": {
      "tags": []
     },
     "output_type": "execute_result"
    }
   ],
   "source": [
    "text_counts"
   ]
  },
  {
   "cell_type": "code",
   "execution_count": null,
   "metadata": {
    "id": "CSxG-j4syjv-"
   },
   "outputs": [],
   "source": [
    "from sklearn.model_selection import train_test_split\n",
    "from sklearn.model_selection import GridSearchCV\n",
    "from sklearn import metrics\n",
    "#X_train, X_test, Y_train, Y_test = train_test_split(text_counts,data['Sentiment'], test_size=0.25, random_state=5)\n",
    "X_train, X_test, Y_train, Y_test = train_test_split(text_counts,data['Vote'], test_size=0.25, random_state=5)"
   ]
  },
  {
   "cell_type": "code",
   "execution_count": null,
   "metadata": {
    "id": "FtQ0pvfaUKwV"
   },
   "outputs": [],
   "source": [
    "def batch_xy(input, output, batchsize):\n",
    "      for i in range(0, input.shape[0], batchsize):\n",
    "        yield input[i:i + batchsize, :], output[i:i + batchsize]\n",
    "\n",
    "def batch_x(input, batchsize):\n",
    "      for i in range(0, input.shape[0], batchsize):\n",
    "        yield input[i:i + batchsize, :]\n",
    "\n",
    "def report(name, target, pred):\n",
    "    label = \"[\" + name + \"] classification report:\"\n",
    "    print(label)\n",
    "    print(classification_report(target, pred)) \n",
    "\n",
    "def roc(name, model, input, target):\n",
    "    label = \"[\" + name + \"] roc curve:\"\n",
    "    print(label)\n",
    "    plt.figure()\n",
    "    roc_plt = plot_roc_curve(model, input, target)\n",
    "    plt.show()\n"
   ]
  },
  {
   "cell_type": "code",
   "execution_count": null,
   "metadata": {
    "colab": {
     "base_uri": "https://localhost:8080/"
    },
    "id": "hjUKENsxBdwf",
    "outputId": "c6d3625e-038b-4da2-9855-2510f790d6fc"
   },
   "outputs": [
    {
     "name": "stdout",
     "output_type": "stream",
     "text": [
      "accuracy_score_mnb = 86.40%\n",
      "[Initial SVC with text counts from Count Vectorizer] classification report:\n",
      "              precision    recall  f1-score   support\n",
      "\n",
      "    Negative       0.90      0.83      0.87    192007\n",
      "     Neutral       0.83      0.94      0.88    261925\n",
      "    Positive       0.89      0.79      0.83    165012\n",
      "\n",
      "    accuracy                           0.86    618944\n",
      "   macro avg       0.87      0.85      0.86    618944\n",
      "weighted avg       0.87      0.86      0.86    618944\n",
      "\n"
     ]
    }
   ],
   "source": [
    "#Linear SVM\n",
    "from sklearn.linear_model import SGDClassifier\n",
    "svc=  SGDClassifier()\n",
    "for x, y in batch_xy(X_train, Y_train, batchsize):\n",
    "      svc.partial_fit(x, y, classes=['Positive','Neutral','Negative'])\n",
    "\n",
    "y_pred = np.array([])\n",
    "\n",
    "for x in batch_x(X_test, batchsize):\n",
    "      y_pred = np.append(y_pred, svc.predict(x))\n",
    "\n",
    "accuracy_score_mnb = metrics.accuracy_score(y_pred, Y_test)\n",
    "print('accuracy_score_mnb = '+str('{:4.2f}'.format(accuracy_score_mnb*100))+'%')\n",
    "report(\"Initial SVC with text counts from Count Vectorizer\", Y_test, y_pred)\n"
   ]
  }
 ],
 "metadata": {
  "colab": {
   "collapsed_sections": [],
   "name": "Copy of Naive_Bayes.ipynb",
   "provenance": []
  },
  "kernelspec": {
   "display_name": "Python 3",
   "language": "python",
   "name": "python3"
  },
  "language_info": {
   "codemirror_mode": {
    "name": "ipython",
    "version": 3
   },
   "file_extension": ".py",
   "mimetype": "text/x-python",
   "name": "python",
   "nbconvert_exporter": "python",
   "pygments_lexer": "ipython3",
   "version": "3.6.8"
  }
 },
 "nbformat": 4,
 "nbformat_minor": 1
}
